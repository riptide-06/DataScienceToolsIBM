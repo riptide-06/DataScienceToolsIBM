{
 "cells": [
  {
   "cell_type": "markdown",
   "id": "e6bc55f0-4aaf-44d8-ba7f-18c76cf00a51",
   "metadata": {},
   "source": [
    "# Data Science Tools and Ecosystem"
   ]
  },
  {
   "cell_type": "markdown",
   "id": "b0588f15-0d90-4e2a-ad1f-3f3a9ef17430",
   "metadata": {},
   "source": [
    "In this notebook, Data Science Tools and Ecosystem are summarized."
   ]
  },
  {
   "cell_type": "markdown",
   "id": "751d5638-f9d0-4dce-9e44-3b963ce5ed02",
   "metadata": {},
   "source": [
    "Some of the popular languages that Data Scientists use are:\n",
    "1. Python\n",
    "2. R\n",
    "3. SQL\n"
   ]
  },
  {
   "cell_type": "markdown",
   "id": "96569f92-92b6-4c8a-a8ac-a5047c608fb1",
   "metadata": {},
   "source": [
    "Some of the commonly used libraries used by Data Scientists include:\n",
    "1. Pandas  \n",
    "2. NumPy  \n",
    "3. Scikit-learn\n"
   ]
  },
  {
   "cell_type": "markdown",
   "id": "a5361798-bad5-4246-9168-6c6fd07920d9",
   "metadata": {},
   "source": [
    "| Data Science Tools   |\n",
    "|----------------------|\n",
    "| Jupyter Notebook     |\n",
    "| RStudio              |\n",
    "| VS Code              |\n"
   ]
  },
  {
   "cell_type": "markdown",
   "id": "a2284cd5-fe0f-4d7a-908f-aa3cf6c0f4ab",
   "metadata": {},
   "source": [
    "### Below are a few examples of evaluating arithmetic expressions in Python.\n"
   ]
  },
  {
   "cell_type": "code",
   "execution_count": 5,
   "id": "b704e1ad-54c8-46d7-bcbf-12dae9f89bac",
   "metadata": {},
   "outputs": [
    {
     "data": {
      "text/plain": [
       "17"
      ]
     },
     "execution_count": 5,
     "metadata": {},
     "output_type": "execute_result"
    }
   ],
   "source": [
    "(3 * 4) + 5"
   ]
  },
  {
   "cell_type": "code",
   "execution_count": 6,
   "id": "6cdbb784-0ec3-4616-8943-d028fe393682",
   "metadata": {},
   "outputs": [
    {
     "data": {
      "text/plain": [
       "3.3333333333333335"
      ]
     },
     "execution_count": 6,
     "metadata": {},
     "output_type": "execute_result"
    }
   ],
   "source": [
    "200 / 60"
   ]
  },
  {
   "cell_type": "markdown",
   "id": "f0ebd88b-9e03-4531-9e20-f8d9eb2e2d7c",
   "metadata": {},
   "source": [
    "**Objectives:**\n",
    "- List popular languages for Data Science\n",
    "- List commonly used libraries\n",
    "- Create markdown tables\n",
    "- Perform basic arithmetic operations in Python\n",
    "- Convert units within a code cell\n"
   ]
  },
  {
   "cell_type": "markdown",
   "id": "ec3b067e-fc9d-4e82-ae61-77936e07a843",
   "metadata": {},
   "source": [
    "Tarun Chandra Nagaraju"
   ]
  },
  {
   "cell_type": "code",
   "execution_count": null,
   "id": "4f676bf2-cd84-4017-beab-eb2f836c017d",
   "metadata": {},
   "outputs": [],
   "source": []
  }
 ],
 "metadata": {
  "kernelspec": {
   "display_name": "Python 3 (ipykernel)",
   "language": "python",
   "name": "python3"
  },
  "language_info": {
   "codemirror_mode": {
    "name": "ipython",
    "version": 3
   },
   "file_extension": ".py",
   "mimetype": "text/x-python",
   "name": "python",
   "nbconvert_exporter": "python",
   "pygments_lexer": "ipython3",
   "version": "3.12.8"
  }
 },
 "nbformat": 4,
 "nbformat_minor": 5
}
